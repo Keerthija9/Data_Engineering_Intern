{
 "cells": [
  {
   "cell_type": "code",
   "execution_count": 2,
   "id": "63c8a016-eae9-430e-8d4d-96f2e811f0a1",
   "metadata": {},
   "outputs": [],
   "source": [
    "import pandas as pd"
   ]
  },
  {
   "cell_type": "code",
   "execution_count": 3,
   "id": "492f1227-4e69-43e4-928e-2ca7a5c5036d",
   "metadata": {},
   "outputs": [
    {
     "data": {
      "text/html": [
       "<div>\n",
       "<style scoped>\n",
       "    .dataframe tbody tr th:only-of-type {\n",
       "        vertical-align: middle;\n",
       "    }\n",
       "\n",
       "    .dataframe tbody tr th {\n",
       "        vertical-align: top;\n",
       "    }\n",
       "\n",
       "    .dataframe thead th {\n",
       "        text-align: right;\n",
       "    }\n",
       "</style>\n",
       "<table border=\"1\" class=\"dataframe\">\n",
       "  <thead>\n",
       "    <tr style=\"text-align: right;\">\n",
       "      <th></th>\n",
       "      <th>Train_No</th>\n",
       "      <th>Train_Name</th>\n",
       "      <th>Source_Station_Name</th>\n",
       "      <th>Destination_Station_Name</th>\n",
       "      <th>days</th>\n",
       "    </tr>\n",
       "  </thead>\n",
       "  <tbody>\n",
       "    <tr>\n",
       "      <th>0</th>\n",
       "      <td>107</td>\n",
       "      <td>SWV-MAO-VLNK</td>\n",
       "      <td>SAWANTWADI ROAD</td>\n",
       "      <td>MADGOAN JN.</td>\n",
       "      <td>Saturday</td>\n",
       "    </tr>\n",
       "    <tr>\n",
       "      <th>1</th>\n",
       "      <td>108</td>\n",
       "      <td>VLNK-MAO-SWV</td>\n",
       "      <td>MADGOAN JN.</td>\n",
       "      <td>SAWANTWADI ROAD</td>\n",
       "      <td>Friday</td>\n",
       "    </tr>\n",
       "    <tr>\n",
       "      <th>2</th>\n",
       "      <td>128</td>\n",
       "      <td>MAO-KOP SPEC</td>\n",
       "      <td>MADGOAN JN.</td>\n",
       "      <td>CHHATRAPATI SHAHU MAHARAJ TERMINUS</td>\n",
       "      <td>Friday</td>\n",
       "    </tr>\n",
       "    <tr>\n",
       "      <th>3</th>\n",
       "      <td>290</td>\n",
       "      <td>PALACE ON WH</td>\n",
       "      <td>DELHI-SAFDAR JANG</td>\n",
       "      <td>DELHI-SAFDAR JANG</td>\n",
       "      <td>Wednesday</td>\n",
       "    </tr>\n",
       "    <tr>\n",
       "      <th>4</th>\n",
       "      <td>401</td>\n",
       "      <td>BSB BHARATDA</td>\n",
       "      <td>AURANGABAD</td>\n",
       "      <td>VARANASI JN.</td>\n",
       "      <td>Saturday</td>\n",
       "    </tr>\n",
       "  </tbody>\n",
       "</table>\n",
       "</div>"
      ],
      "text/plain": [
       "   Train_No    Train_Name Source_Station_Name  \\\n",
       "0       107  SWV-MAO-VLNK     SAWANTWADI ROAD   \n",
       "1       108  VLNK-MAO-SWV         MADGOAN JN.   \n",
       "2       128  MAO-KOP SPEC         MADGOAN JN.   \n",
       "3       290  PALACE ON WH   DELHI-SAFDAR JANG   \n",
       "4       401  BSB BHARATDA          AURANGABAD   \n",
       "\n",
       "             Destination_Station_Name       days  \n",
       "0                         MADGOAN JN.   Saturday  \n",
       "1                     SAWANTWADI ROAD     Friday  \n",
       "2  CHHATRAPATI SHAHU MAHARAJ TERMINUS     Friday  \n",
       "3                   DELHI-SAFDAR JANG  Wednesday  \n",
       "4                        VARANASI JN.   Saturday  "
      ]
     },
     "execution_count": 3,
     "metadata": {},
     "output_type": "execute_result"
    }
   ],
   "source": [
    "df = pd.read_csv('Railway_info.csv')\n",
    "df.head()"
   ]
  },
  {
   "cell_type": "code",
   "execution_count": 4,
   "id": "d18ad62b-0bd6-4e21-b337-b87ec1207301",
   "metadata": {},
   "outputs": [
    {
     "data": {
      "text/html": [
       "<div>\n",
       "<style scoped>\n",
       "    .dataframe tbody tr th:only-of-type {\n",
       "        vertical-align: middle;\n",
       "    }\n",
       "\n",
       "    .dataframe tbody tr th {\n",
       "        vertical-align: top;\n",
       "    }\n",
       "\n",
       "    .dataframe thead th {\n",
       "        text-align: right;\n",
       "    }\n",
       "</style>\n",
       "<table border=\"1\" class=\"dataframe\">\n",
       "  <thead>\n",
       "    <tr style=\"text-align: right;\">\n",
       "      <th></th>\n",
       "      <th>Train_No</th>\n",
       "    </tr>\n",
       "  </thead>\n",
       "  <tbody>\n",
       "    <tr>\n",
       "      <th>count</th>\n",
       "      <td>11113.000000</td>\n",
       "    </tr>\n",
       "    <tr>\n",
       "      <th>mean</th>\n",
       "      <td>49190.570413</td>\n",
       "    </tr>\n",
       "    <tr>\n",
       "      <th>std</th>\n",
       "      <td>28515.986645</td>\n",
       "    </tr>\n",
       "    <tr>\n",
       "      <th>min</th>\n",
       "      <td>107.000000</td>\n",
       "    </tr>\n",
       "    <tr>\n",
       "      <th>25%</th>\n",
       "      <td>22607.000000</td>\n",
       "    </tr>\n",
       "    <tr>\n",
       "      <th>50%</th>\n",
       "      <td>47174.000000</td>\n",
       "    </tr>\n",
       "    <tr>\n",
       "      <th>75%</th>\n",
       "      <td>68012.000000</td>\n",
       "    </tr>\n",
       "    <tr>\n",
       "      <th>max</th>\n",
       "      <td>99908.000000</td>\n",
       "    </tr>\n",
       "  </tbody>\n",
       "</table>\n",
       "</div>"
      ],
      "text/plain": [
       "           Train_No\n",
       "count  11113.000000\n",
       "mean   49190.570413\n",
       "std    28515.986645\n",
       "min      107.000000\n",
       "25%    22607.000000\n",
       "50%    47174.000000\n",
       "75%    68012.000000\n",
       "max    99908.000000"
      ]
     },
     "execution_count": 4,
     "metadata": {},
     "output_type": "execute_result"
    }
   ],
   "source": [
    "df.describe()"
   ]
  },
  {
   "cell_type": "code",
   "execution_count": 7,
   "id": "d31f7c23-0d10-49d3-9d84-29b80aaa6a48",
   "metadata": {},
   "outputs": [
    {
     "name": "stdout",
     "output_type": "stream",
     "text": [
      "<class 'pandas.core.frame.DataFrame'>\n",
      "RangeIndex: 11113 entries, 0 to 11112\n",
      "Data columns (total 5 columns):\n",
      " #   Column                    Non-Null Count  Dtype \n",
      "---  ------                    --------------  ----- \n",
      " 0   Train_No                  11113 non-null  int64 \n",
      " 1   Train_Name                11113 non-null  object\n",
      " 2   Source_Station_Name       11113 non-null  object\n",
      " 3   Destination_Station_Name  11113 non-null  object\n",
      " 4   days                      11113 non-null  object\n",
      "dtypes: int64(1), object(4)\n",
      "memory usage: 434.2+ KB\n"
     ]
    }
   ],
   "source": [
    "df.info()"
   ]
  },
  {
   "cell_type": "code",
   "execution_count": 10,
   "id": "b03cb3b8-5c25-411b-9d96-b6e3b99102a0",
   "metadata": {},
   "outputs": [],
   "source": [
    "import seaborn as sns\n",
    "import numpy as np\n",
    "import matplotlib.pyplot as plt"
   ]
  },
  {
   "cell_type": "code",
   "execution_count": 11,
   "id": "31290007-96ea-48fa-a69c-bd327a289a5b",
   "metadata": {},
   "outputs": [
    {
     "data": {
      "image/png": "[encoded data removed]",
      "text/plain": [
       "<Figure size 640x480 with 1 Axes>"
      ]
     },
     "metadata": {},
     "output_type": "display_data"
    }
   ],
   "source": [
    "sns.heatmap(df.isnull(),cbar= False, cmap='viridis', yticklabels=False)\n",
    "plt.title('Heatmap:No Null values')\n",
    "plt.xlabel('Columns')\n",
    "plt.ylabel('Records')\n",
    "plt.show()"
   ]
  },
  {
   "cell_type": "code",
   "execution_count": 12,
   "id": "bc90fa06-30a8-4230-8a3b-7a20191eba25",
   "metadata": {},
   "outputs": [
    {
     "name": "stdout",
     "output_type": "stream",
     "text": [
      "Train_No                    0\n",
      "Train_Name                  0\n",
      "Source_Station_Name         0\n",
      "Destination_Station_Name    0\n",
      "days                        0\n",
      "dtype: int64\n"
     ]
    }
   ],
   "source": [
    "#Checking if there are any empty spaces\n",
    "\n",
    "for col in ['Train_Name','Source_Station_Name','Destination_Station_Name','days']:\n",
    "    empty_spaces = df[df[col].str.strip()=='']==1\n",
    "print(empty_spaces.count())"
   ]
  },
  {
   "cell_type": "code",
   "execution_count": 13,
   "id": "f705b7e5-16b4-44b8-9ba4-05e0dcdaabda",
   "metadata": {},
   "outputs": [
    {
     "data": {
      "text/plain": [
       "Train_No                    11113\n",
       "Train_Name                   7580\n",
       "Source_Station_Name           921\n",
       "Destination_Station_Name      924\n",
       "days                           14\n",
       "dtype: int64"
      ]
     },
     "execution_count": 13,
     "metadata": {},
     "output_type": "execute_result"
    }
   ],
   "source": [
    "df.nunique() #gives all the unique values count in each coulmn"
   ]
  },
  {
   "cell_type": "code",
   "execution_count": 14,
   "id": "4f27a494-d3b0-42a1-9414-6bb0c67ad289",
   "metadata": {},
   "outputs": [
    {
     "name": "stdout",
     "output_type": "stream",
     "text": [
      "Source_Station_Name\n",
      "CST-MUMBAI       513\n",
      "SEALDAH          372\n",
      "CHENNAI BEACH    339\n",
      "HOWRAH JN.       338\n",
      "KALYAN JN        285\n",
      "Name: count, dtype: int64\n",
      "Destination_Station_Name\n",
      "CST-MUMBAI       514\n",
      "SEALDAH          373\n",
      "CHENNAI BEACH    342\n",
      "HOWRAH JN.       337\n",
      "KALYAN JN        284\n",
      "Name: count, dtype: int64\n"
     ]
    }
   ],
   "source": [
    "# Finding most common stations\n",
    "\n",
    "for col in ['Source_Station_Name','Destination_Station_Name']:\n",
    "    print(df[col].value_counts().head())"
   ]
  },
  {
   "cell_type": "code",
   "execution_count": 15,
   "id": "e9771180-2cad-41fd-a302-fec7b774eaa7",
   "metadata": {},
   "outputs": [
    {
     "data": {
      "text/plain": [
       "array(['Saturday', 'Friday', 'Wednesday', 'Tuesday', 'Monday', 'Sunday',\n",
       "       'Thursday', 'Mondayd', 'Thursdayd', 'Tuesdayd', 'Fridayd',\n",
       "       'Wednesdayd', 'Saturdayd', 'Sundayd'], dtype=object)"
      ]
     },
     "execution_count": 15,
     "metadata": {},
     "output_type": "execute_result"
    }
   ],
   "source": [
    "df.days.unique()"
   ]
  },
  {
   "cell_type": "code",
   "execution_count": 16,
   "id": "92b703b0-2c6e-480e-b1f2-8ba6d33c3775",
   "metadata": {},
   "outputs": [
    {
     "data": {
      "text/plain": [
       "array(['Saturday', 'Friday', 'Wednesday', 'Tuesday', 'Monday', 'Sunday',\n",
       "       'Thursday'], dtype=object)"
      ]
     },
     "execution_count": 16,
     "metadata": {},
     "output_type": "execute_result"
    }
   ],
   "source": [
    "#replacing days with correct day_name\n",
    "\n",
    "df['days'] = df['days'].replace(r'd$','',regex=True) \n",
    "df['days'].unique()"
   ]
  },
  {
   "cell_type": "code",
   "execution_count": 17,
   "id": "cb8ba92c-4275-42bc-a1ac-2a6602445d63",
   "metadata": {},
   "outputs": [
    {
     "data": {
      "text/plain": [
       "Train_No                    11113\n",
       "Train_Name                   7580\n",
       "Source_Station_Name           921\n",
       "Destination_Station_Name      924\n",
       "days                            7\n",
       "dtype: int64"
      ]
     },
     "execution_count": 17,
     "metadata": {},
     "output_type": "execute_result"
    }
   ],
   "source": [
    "df.nunique()"
   ]
  },
  {
   "cell_type": "code",
   "execution_count": 18,
   "id": "48c0e6df-5207-47b7-9e8f-7065b8fb76ea",
   "metadata": {},
   "outputs": [
    {
     "name": "stdout",
     "output_type": "stream",
     "text": [
      "0          SAWANTWADI ROAD\n",
      "1              MADGOAN JN.\n",
      "2              MADGOAN JN.\n",
      "3        DELHI-SAFDAR JANG\n",
      "4               AURANGABAD\n",
      "               ...        \n",
      "11108             PUNE JN.\n",
      "11109             TALEGAON\n",
      "11110             PUNE JN.\n",
      "11111             TALEGAON\n",
      "11112             PUNE JN.\n",
      "Name: Source_Station_Name, Length: 11113, dtype: object\n",
      "0                               MADGOAN JN.\n",
      "1                           SAWANTWADI ROAD\n",
      "2        CHHATRAPATI SHAHU MAHARAJ TERMINUS\n",
      "3                         DELHI-SAFDAR JANG\n",
      "4                              VARANASI JN.\n",
      "                        ...                \n",
      "11108                              TALEGAON\n",
      "11109                          SHIVAJINAGAR\n",
      "11110                              TALEGAON\n",
      "11111                              PUNE JN.\n",
      "11112                              TALEGAON\n",
      "Name: Destination_Station_Name, Length: 11113, dtype: object\n"
     ]
    }
   ],
   "source": [
    "#Standardizing all station names into uppercase\n",
    "\n",
    "for col in ['Source_Station_Name','Destination_Station_Name']:\n",
    "    df[col].str.upper()\n",
    "    print(df[col])"
   ]
  },
  {
   "cell_type": "code",
   "execution_count": 20,
   "id": "1f042705-7ec5-418b-9741-a502460c4872",
   "metadata": {},
   "outputs": [
    {
     "name": "stdout",
     "output_type": "stream",
     "text": [
      "7512      ABHANPUR JN.\n",
      "6435            ABOHAR\n",
      "9321          ABU ROAD\n",
      "6672      ACHHNERA JN.\n",
      "205           ADILABAD\n",
      "             ...      \n",
      "9251         WARASEONI\n",
      "5653        WARDHA JN.\n",
      "151        WHITE FIELD\n",
      "7633     YAMUNA BRIDGE\n",
      "141     YESVANTPUR JN.\n",
      "Length: 933, dtype: object\n"
     ]
    }
   ],
   "source": [
    "All_stations = pd.concat([df['Source_Station_Name'],df['Destination_Station_Name']])\n",
    "unique_stations = All_stations.drop_duplicates()\n",
    "print(unique_stations.sort_values())"
   ]
  },
  {
   "cell_type": "code",
   "execution_count": 30,
   "id": "4d87608e-81ca-420d-9691-2951063043bb",
   "metadata": {},
   "outputs": [
    {
     "data": {
      "text/html": [
       "<div>\n",
       "<style scoped>\n",
       "    .dataframe tbody tr th:only-of-type {\n",
       "        vertical-align: middle;\n",
       "    }\n",
       "\n",
       "    .dataframe tbody tr th {\n",
       "        vertical-align: top;\n",
       "    }\n",
       "\n",
       "    .dataframe thead th {\n",
       "        text-align: right;\n",
       "    }\n",
       "</style>\n",
       "<table border=\"1\" class=\"dataframe\">\n",
       "  <thead>\n",
       "    <tr style=\"text-align: right;\">\n",
       "      <th></th>\n",
       "      <th>Train_No</th>\n",
       "      <th>Train_Name</th>\n",
       "      <th>Source_Station_Name</th>\n",
       "      <th>Destination_Station_Name</th>\n",
       "      <th>days</th>\n",
       "    </tr>\n",
       "  </thead>\n",
       "  <tbody>\n",
       "    <tr>\n",
       "      <th>5</th>\n",
       "      <td>421</td>\n",
       "      <td>LKO-SVDK FTR</td>\n",
       "      <td>LUCKNOW JN.</td>\n",
       "      <td>SHRI MATA VAISHNO DEVI KATRA</td>\n",
       "      <td>Tuesday</td>\n",
       "    </tr>\n",
       "    <tr>\n",
       "      <th>6</th>\n",
       "      <td>422</td>\n",
       "      <td>SVDK-LKO FTR</td>\n",
       "      <td>SHRI MATA VAISHNO DEVI KATRA</td>\n",
       "      <td>LUCKNOW JN.</td>\n",
       "      <td>Monday</td>\n",
       "    </tr>\n",
       "    <tr>\n",
       "      <th>8</th>\n",
       "      <td>502</td>\n",
       "      <td>RJPB-UMB FTR</td>\n",
       "      <td>RAJENDRANAGAR TERMINAL</td>\n",
       "      <td>AMBALA CANTT JN</td>\n",
       "      <td>Monday</td>\n",
       "    </tr>\n",
       "    <tr>\n",
       "      <th>15</th>\n",
       "      <td>1037</td>\n",
       "      <td>LTT-SWV SPL</td>\n",
       "      <td>LOKMANYA TILAK TERMINUS</td>\n",
       "      <td>SAWANTWADI ROAD</td>\n",
       "      <td>Tuesday</td>\n",
       "    </tr>\n",
       "    <tr>\n",
       "      <th>16</th>\n",
       "      <td>1038</td>\n",
       "      <td>SWV-LTT SPL</td>\n",
       "      <td>SAWANTWADI ROAD</td>\n",
       "      <td>LOKMANYA TILAK TERMINUS</td>\n",
       "      <td>Tuesday</td>\n",
       "    </tr>\n",
       "    <tr>\n",
       "      <th>...</th>\n",
       "      <td>...</td>\n",
       "      <td>...</td>\n",
       "      <td>...</td>\n",
       "      <td>...</td>\n",
       "      <td>...</td>\n",
       "    </tr>\n",
       "    <tr>\n",
       "      <th>11099</th>\n",
       "      <td>99831</td>\n",
       "      <td>LNL-PUNE EMU</td>\n",
       "      <td>LONAVLA</td>\n",
       "      <td>PUNE JN.</td>\n",
       "      <td>Tuesday</td>\n",
       "    </tr>\n",
       "    <tr>\n",
       "      <th>11103</th>\n",
       "      <td>99835</td>\n",
       "      <td>LNL-PUNE EMU</td>\n",
       "      <td>LONAVLA</td>\n",
       "      <td>PUNE JN.</td>\n",
       "      <td>Tuesday</td>\n",
       "    </tr>\n",
       "    <tr>\n",
       "      <th>11105</th>\n",
       "      <td>99901</td>\n",
       "      <td>TGN-PUNE EMU</td>\n",
       "      <td>TALEGAON</td>\n",
       "      <td>PUNE JN.</td>\n",
       "      <td>Tuesday</td>\n",
       "    </tr>\n",
       "    <tr>\n",
       "      <th>11108</th>\n",
       "      <td>99904</td>\n",
       "      <td>PUNE-TGN EMU</td>\n",
       "      <td>PUNE JN.</td>\n",
       "      <td>TALEGAON</td>\n",
       "      <td>Tuesday</td>\n",
       "    </tr>\n",
       "    <tr>\n",
       "      <th>11109</th>\n",
       "      <td>99905</td>\n",
       "      <td>EMU</td>\n",
       "      <td>TALEGAON</td>\n",
       "      <td>SHIVAJINAGAR</td>\n",
       "      <td>Monday</td>\n",
       "    </tr>\n",
       "  </tbody>\n",
       "</table>\n",
       "<p>3131 rows × 5 columns</p>\n",
       "</div>"
      ],
      "text/plain": [
       "       Train_No    Train_Name           Source_Station_Name  \\\n",
       "5           421  LKO-SVDK FTR                   LUCKNOW JN.   \n",
       "6           422  SVDK-LKO FTR  SHRI MATA VAISHNO DEVI KATRA   \n",
       "8           502  RJPB-UMB FTR        RAJENDRANAGAR TERMINAL   \n",
       "15         1037   LTT-SWV SPL       LOKMANYA TILAK TERMINUS   \n",
       "16         1038   SWV-LTT SPL               SAWANTWADI ROAD   \n",
       "...         ...           ...                           ...   \n",
       "11099     99831  LNL-PUNE EMU                       LONAVLA   \n",
       "11103     99835  LNL-PUNE EMU                       LONAVLA   \n",
       "11105     99901  TGN-PUNE EMU                      TALEGAON   \n",
       "11108     99904  PUNE-TGN EMU                      PUNE JN.   \n",
       "11109     99905           EMU                      TALEGAON   \n",
       "\n",
       "           Destination_Station_Name     days  \n",
       "5      SHRI MATA VAISHNO DEVI KATRA  Tuesday  \n",
       "6                       LUCKNOW JN.   Monday  \n",
       "8                   AMBALA CANTT JN   Monday  \n",
       "15                  SAWANTWADI ROAD  Tuesday  \n",
       "16          LOKMANYA TILAK TERMINUS  Tuesday  \n",
       "...                             ...      ...  \n",
       "11099                      PUNE JN.  Tuesday  \n",
       "11103                      PUNE JN.  Tuesday  \n",
       "11105                      PUNE JN.  Tuesday  \n",
       "11108                      TALEGAON  Tuesday  \n",
       "11109                  SHIVAJINAGAR   Monday  \n",
       "\n",
       "[3131 rows x 5 columns]"
      ]
     },
     "execution_count": 30,
     "metadata": {},
     "output_type": "execute_result"
    }
   ],
   "source": [
    "#Extracting train details for Monday and tuesday\n",
    "\n",
    "df.loc[df['days'].str.contains('Monday|Tuesday')]"
   ]
  },
  {
   "cell_type": "code",
   "execution_count": 32,
   "id": "98acf547-12a2-4fce-9e89-dc670a36a487",
   "metadata": {},
   "outputs": [
    {
     "data": {
      "text/html": [
       "<div>\n",
       "<style scoped>\n",
       "    .dataframe tbody tr th:only-of-type {\n",
       "        vertical-align: middle;\n",
       "    }\n",
       "\n",
       "    .dataframe tbody tr th {\n",
       "        vertical-align: top;\n",
       "    }\n",
       "\n",
       "    .dataframe thead th {\n",
       "        text-align: right;\n",
       "    }\n",
       "</style>\n",
       "<table border=\"1\" class=\"dataframe\">\n",
       "  <thead>\n",
       "    <tr style=\"text-align: right;\">\n",
       "      <th></th>\n",
       "      <th>Train_No</th>\n",
       "      <th>Train_Name</th>\n",
       "      <th>Source_Station_Name</th>\n",
       "      <th>Destination_Station_Name</th>\n",
       "      <th>days</th>\n",
       "    </tr>\n",
       "  </thead>\n",
       "  <tbody>\n",
       "    <tr>\n",
       "      <th>5653</th>\n",
       "      <td>51195</td>\n",
       "      <td>WR-BPQ PASS</td>\n",
       "      <td>WARDHA JN.</td>\n",
       "      <td>BALHARSHAH</td>\n",
       "      <td>Wednesday</td>\n",
       "    </tr>\n",
       "    <tr>\n",
       "      <th>5656</th>\n",
       "      <td>51198</td>\n",
       "      <td>WR-BSL PASSE</td>\n",
       "      <td>WARDHA JN.</td>\n",
       "      <td>BHUSAVAL JN.</td>\n",
       "      <td>Sunday</td>\n",
       "    </tr>\n",
       "    <tr>\n",
       "      <th>5663</th>\n",
       "      <td>51259</td>\n",
       "      <td>WR-NGP PASSE</td>\n",
       "      <td>WARDHA JN.</td>\n",
       "      <td>NAGPUR JN.(CR)</td>\n",
       "      <td>Tuesday</td>\n",
       "    </tr>\n",
       "    <tr>\n",
       "      <th>5666</th>\n",
       "      <td>51262</td>\n",
       "      <td>WR- AMI PASS</td>\n",
       "      <td>WARDHA JN.</td>\n",
       "      <td>AMRAVATI</td>\n",
       "      <td>Friday</td>\n",
       "    </tr>\n",
       "  </tbody>\n",
       "</table>\n",
       "</div>"
      ],
      "text/plain": [
       "      Train_No    Train_Name Source_Station_Name Destination_Station_Name  \\\n",
       "5653     51195   WR-BPQ PASS          WARDHA JN.               BALHARSHAH   \n",
       "5656     51198  WR-BSL PASSE          WARDHA JN.             BHUSAVAL JN.   \n",
       "5663     51259  WR-NGP PASSE          WARDHA JN.           NAGPUR JN.(CR)   \n",
       "5666     51262  WR- AMI PASS          WARDHA JN.                 AMRAVATI   \n",
       "\n",
       "           days  \n",
       "5653  Wednesday  \n",
       "5656     Sunday  \n",
       "5663    Tuesday  \n",
       "5666     Friday  "
      ]
     },
     "execution_count": 32,
     "metadata": {},
     "output_type": "execute_result"
    }
   ],
   "source": [
    "#Extracting train details with source station \"Wardha Junction\"\n",
    "\n",
    "df.loc[df['Source_Station_Name']=='WARDHA JN.']"
   ]
  },
  {
   "cell_type": "code",
   "execution_count": 34,
   "id": "ec3337d2-ac9b-41cd-a244-667019cd2a9f",
   "metadata": {},
   "outputs": [
    {
     "data": {
      "text/plain": [
       "7580"
      ]
     },
     "execution_count": 34,
     "metadata": {},
     "output_type": "execute_result"
    }
   ],
   "source": [
    "trains_count = df['Train_Name'].drop_duplicates().count()\n",
    "trains_count"
   ]
  },
  {
   "cell_type": "code",
   "execution_count": 36,
   "id": "95ffffe4-30bc-4350-93a5-e07a993f46e5",
   "metadata": {},
   "outputs": [
    {
     "data": {
      "text/plain": [
       "array(['SWV-MAO-VLNK', 'VLNK-MAO-SWV', 'MAO-KOP SPEC', ...,\n",
       "       'PUNE-TGN EMU', 'TGN-PUNE EMU', 'EMU'], dtype=object)"
      ]
     },
     "execution_count": 36,
     "metadata": {},
     "output_type": "execute_result"
    }
   ],
   "source": [
    "trains = df['Train_Name'].unique()\n",
    "trains"
   ]
  },
  {
   "cell_type": "code",
   "execution_count": 38,
   "id": "2a91e73c-900f-41ad-acce-651497969117",
   "metadata": {},
   "outputs": [
    {
     "data": {
      "text/html": [
       "<div>\n",
       "<style scoped>\n",
       "    .dataframe tbody tr th:only-of-type {\n",
       "        vertical-align: middle;\n",
       "    }\n",
       "\n",
       "    .dataframe tbody tr th {\n",
       "        vertical-align: top;\n",
       "    }\n",
       "\n",
       "    .dataframe thead th {\n",
       "        text-align: right;\n",
       "    }\n",
       "</style>\n",
       "<table border=\"1\" class=\"dataframe\">\n",
       "  <thead>\n",
       "    <tr style=\"text-align: right;\">\n",
       "      <th></th>\n",
       "      <th>Source_Station_Name</th>\n",
       "      <th>No_of_trains</th>\n",
       "    </tr>\n",
       "  </thead>\n",
       "  <tbody>\n",
       "    <tr>\n",
       "      <th>0</th>\n",
       "      <td>ABHANPUR JN.</td>\n",
       "      <td>2</td>\n",
       "    </tr>\n",
       "    <tr>\n",
       "      <th>1</th>\n",
       "      <td>ABOHAR</td>\n",
       "      <td>1</td>\n",
       "    </tr>\n",
       "    <tr>\n",
       "      <th>2</th>\n",
       "      <td>ABU ROAD</td>\n",
       "      <td>1</td>\n",
       "    </tr>\n",
       "    <tr>\n",
       "      <th>3</th>\n",
       "      <td>ACHHNERA JN.</td>\n",
       "      <td>1</td>\n",
       "    </tr>\n",
       "    <tr>\n",
       "      <th>4</th>\n",
       "      <td>ADILABAD</td>\n",
       "      <td>5</td>\n",
       "    </tr>\n",
       "    <tr>\n",
       "      <th>...</th>\n",
       "      <td>...</td>\n",
       "      <td>...</td>\n",
       "    </tr>\n",
       "    <tr>\n",
       "      <th>916</th>\n",
       "      <td>WARASEONI</td>\n",
       "      <td>1</td>\n",
       "    </tr>\n",
       "    <tr>\n",
       "      <th>917</th>\n",
       "      <td>WARDHA JN.</td>\n",
       "      <td>4</td>\n",
       "    </tr>\n",
       "    <tr>\n",
       "      <th>918</th>\n",
       "      <td>WHITE FIELD</td>\n",
       "      <td>2</td>\n",
       "    </tr>\n",
       "    <tr>\n",
       "      <th>919</th>\n",
       "      <td>YAMUNA BRIDGE</td>\n",
       "      <td>2</td>\n",
       "    </tr>\n",
       "    <tr>\n",
       "      <th>920</th>\n",
       "      <td>YESVANTPUR JN.</td>\n",
       "      <td>60</td>\n",
       "    </tr>\n",
       "  </tbody>\n",
       "</table>\n",
       "<p>921 rows × 2 columns</p>\n",
       "</div>"
      ],
      "text/plain": [
       "    Source_Station_Name  No_of_trains\n",
       "0          ABHANPUR JN.             2\n",
       "1                ABOHAR             1\n",
       "2              ABU ROAD             1\n",
       "3          ACHHNERA JN.             1\n",
       "4              ADILABAD             5\n",
       "..                  ...           ...\n",
       "916           WARASEONI             1\n",
       "917          WARDHA JN.             4\n",
       "918         WHITE FIELD             2\n",
       "919       YAMUNA BRIDGE             2\n",
       "920      YESVANTPUR JN.            60\n",
       "\n",
       "[921 rows x 2 columns]"
      ]
     },
     "execution_count": 38,
     "metadata": {},
     "output_type": "execute_result"
    }
   ],
   "source": [
    "# Extracting number of trains from each station\n",
    "station_trains = df.groupby(['Source_Station_Name'])['Train_No'].count().reset_index()\n",
    "station_trains = station_trains.rename(columns={'Train_No':'No_of_trains'})\n",
    "station_trains"
   ]
  },
  {
   "cell_type": "code",
   "execution_count": 40,
   "id": "bb824e4f-26ca-4c50-a02b-43c625827817",
   "metadata": {},
   "outputs": [
    {
     "data": {
      "text/html": [
       "<div>\n",
       "<style scoped>\n",
       "    .dataframe tbody tr th:only-of-type {\n",
       "        vertical-align: middle;\n",
       "    }\n",
       "\n",
       "    .dataframe tbody tr th {\n",
       "        vertical-align: top;\n",
       "    }\n",
       "\n",
       "    .dataframe thead th {\n",
       "        text-align: right;\n",
       "    }\n",
       "</style>\n",
       "<table border=\"1\" class=\"dataframe\">\n",
       "  <thead>\n",
       "    <tr style=\"text-align: right;\">\n",
       "      <th></th>\n",
       "      <th>Source_Station_Name</th>\n",
       "      <th>days</th>\n",
       "      <th>Avg_Train_count</th>\n",
       "    </tr>\n",
       "  </thead>\n",
       "  <tbody>\n",
       "    <tr>\n",
       "      <th>0</th>\n",
       "      <td>ABHANPUR JN.</td>\n",
       "      <td>Saturday</td>\n",
       "      <td>1</td>\n",
       "    </tr>\n",
       "    <tr>\n",
       "      <th>1</th>\n",
       "      <td>ABHANPUR JN.</td>\n",
       "      <td>Tuesday</td>\n",
       "      <td>1</td>\n",
       "    </tr>\n",
       "    <tr>\n",
       "      <th>2</th>\n",
       "      <td>ABOHAR</td>\n",
       "      <td>Wednesday</td>\n",
       "      <td>1</td>\n",
       "    </tr>\n",
       "    <tr>\n",
       "      <th>3</th>\n",
       "      <td>ABU ROAD</td>\n",
       "      <td>Tuesday</td>\n",
       "      <td>1</td>\n",
       "    </tr>\n",
       "    <tr>\n",
       "      <th>4</th>\n",
       "      <td>ACHHNERA JN.</td>\n",
       "      <td>Saturday</td>\n",
       "      <td>1</td>\n",
       "    </tr>\n",
       "    <tr>\n",
       "      <th>...</th>\n",
       "      <td>...</td>\n",
       "      <td>...</td>\n",
       "      <td>...</td>\n",
       "    </tr>\n",
       "    <tr>\n",
       "      <th>3380</th>\n",
       "      <td>YESVANTPUR JN.</td>\n",
       "      <td>Saturday</td>\n",
       "      <td>8</td>\n",
       "    </tr>\n",
       "    <tr>\n",
       "      <th>3381</th>\n",
       "      <td>YESVANTPUR JN.</td>\n",
       "      <td>Sunday</td>\n",
       "      <td>6</td>\n",
       "    </tr>\n",
       "    <tr>\n",
       "      <th>3382</th>\n",
       "      <td>YESVANTPUR JN.</td>\n",
       "      <td>Thursday</td>\n",
       "      <td>10</td>\n",
       "    </tr>\n",
       "    <tr>\n",
       "      <th>3383</th>\n",
       "      <td>YESVANTPUR JN.</td>\n",
       "      <td>Tuesday</td>\n",
       "      <td>9</td>\n",
       "    </tr>\n",
       "    <tr>\n",
       "      <th>3384</th>\n",
       "      <td>YESVANTPUR JN.</td>\n",
       "      <td>Wednesday</td>\n",
       "      <td>11</td>\n",
       "    </tr>\n",
       "  </tbody>\n",
       "</table>\n",
       "<p>3385 rows × 3 columns</p>\n",
       "</div>"
      ],
      "text/plain": [
       "     Source_Station_Name       days  Avg_Train_count\n",
       "0           ABHANPUR JN.   Saturday                1\n",
       "1           ABHANPUR JN.    Tuesday                1\n",
       "2                 ABOHAR  Wednesday                1\n",
       "3               ABU ROAD    Tuesday                1\n",
       "4           ACHHNERA JN.   Saturday                1\n",
       "...                  ...        ...              ...\n",
       "3380      YESVANTPUR JN.   Saturday                8\n",
       "3381      YESVANTPUR JN.     Sunday                6\n",
       "3382      YESVANTPUR JN.   Thursday               10\n",
       "3383      YESVANTPUR JN.    Tuesday                9\n",
       "3384      YESVANTPUR JN.  Wednesday               11\n",
       "\n",
       "[3385 rows x 3 columns]"
      ]
     },
     "execution_count": 40,
     "metadata": {},
     "output_type": "execute_result"
    }
   ],
   "source": [
    "#Calculating average number of trains per day per station\n",
    "# Count the number of trains per station per day\n",
    "trains_per_day = df.groupby(['Source_Station_Name', 'days'])['Train_No'].count().reset_index()\n",
    "\n",
    "# Find the most frequent daily train count per station\n",
    "avg_trains_per_day = trains_per_day.groupby(['Source_Station_Name','days'])['Train_No'].max().reset_index()\n",
    "\n",
    "# Rename column\n",
    "avg_trains_per_day = avg_trains_per_day.rename(columns={'Train_No':'Avg_Train_count'})\n",
    "avg_trains_per_day\n"
   ]
  },
  {
   "cell_type": "code",
   "execution_count": 42,
   "id": "ac71344d-7b8d-4043-b39d-faf9e461d587",
   "metadata": {},
   "outputs": [
    {
     "data": {
      "image/png": "[encoded data removed]",
      "text/plain": [
       "<Figure size 800x500 with 1 Axes>"
      ]
     },
     "metadata": {},
     "output_type": "display_data"
    }
   ],
   "source": [
    "# Count the number of trains per day\n",
    "train_counts = df['days'].value_counts().sort_index()\n",
    "\n",
    "# Plot\n",
    "plt.figure(figsize=(8,5))\n",
    "sns.barplot(x=train_counts.index, y=train_counts.values, palette=\"viridis\")\n",
    "plt.xlabel(\"Days of the Week\")\n",
    "plt.ylabel(\"Number of Trains\")\n",
    "plt.title(\"Train Operations by Day of the Week\")\n",
    "plt.show()"
   ]
  },
  {
   "cell_type": "code",
   "execution_count": 44,
   "id": "a5937d53-8e10-4230-bf4f-03d1c2dd1108",
   "metadata": {},
   "outputs": [
    {
     "data": {
      "image/png": "[encoded data removed]",
      "text/plain": [
       "<Figure size 1200x600 with 1 Axes>"
      ]
     },
     "metadata": {},
     "output_type": "display_data"
    }
   ],
   "source": [
    "df['Route'] = df['Source_Station_Name'] + \" → \" + df['Destination_Station_Name']\n",
    "top_routes = df['Route'].value_counts().head(15)\n",
    "\n",
    "plt.figure(figsize=(12,6))\n",
    "sns.barplot(y=top_routes.index, x=top_routes.values, palette=\"magma\")\n",
    "plt.xlabel(\"Number of Trains\")\n",
    "plt.ylabel(\"Train Routes\")\n",
    "plt.title(\"Most Frequent Train Routes\")\n",
    "plt.show()\n"
   ]
  },
  {
   "cell_type": "code",
   "execution_count": 45,
   "id": "07dce692-b850-4db0-8e95-22636cd82f87",
   "metadata": {},
   "outputs": [
    {
     "data": {
      "image/png": "[encoded data removed]",
      "text/plain": [
       "<Figure size 600x400 with 2 Axes>"
      ]
     },
     "metadata": {},
     "output_type": "display_data"
    },
    {
     "name": "stdout",
     "output_type": "stream",
     "text": [
      "              days_numeric  train_count\n",
      "days_numeric      1.000000     0.380576\n",
      "train_count       0.380576     1.000000\n"
     ]
    }
   ],
   "source": [
    "# Map weekdays to numerical values\n",
    "days_mapping = {\"Monday\": 1, \"Tuesday\": 2, \"Wednesday\": 3, \"Thursday\": 4, \"Friday\": 5, \"Saturday\": 6, \"Sunday\": 7}\n",
    "df[\"days_numeric\"] = df[\"days\"].map(days_mapping)\n",
    "\n",
    "# Count the number of trains per day\n",
    "train_count_per_day = df.groupby(\"days_numeric\")[\"Train_No\"].count().reset_index()\n",
    "train_count_per_day.columns = [\"days_numeric\", \"train_count\"]\n",
    "\n",
    "# Compute correlation\n",
    "correlation_matrix = train_count_per_day.corr()\n",
    "\n",
    "# Display correlation heatmap\n",
    "plt.figure(figsize=(6,4))\n",
    "sns.heatmap(correlation_matrix, annot=True, cmap=\"coolwarm\", linewidths=0.5)\n",
    "plt.title(\"Correlation Between Train Frequency and Days of Operation\")\n",
    "plt.show()\n",
    "\n",
    "# Print correlation values\n",
    "print(correlation_matrix)"
   ]
  },
  {
   "cell_type": "code",
   "execution_count": null,
   "id": "e9fec748-ef6a-4097-b835-584d0937367e",
   "metadata": {},
   "outputs": [],
   "source": []
  }
 ],
 "metadata": {
  "kernelspec": {
   "display_name": "anaconda-panel-2023.05-py310",
   "language": "python",
   "name": "conda-env-anaconda-panel-2023.05-py310-py"
  },
  "language_info": {
   "codemirror_mode": {
    "name": "ipython",
    "version": 3
   },
   "file_extension": ".py",
   "mimetype": "text/x-python",
   "name": "python",
   "nbconvert_exporter": "python",
   "pygments_lexer": "ipython3",
   "version": "3.11.5"
  }
 },
 "nbformat": 4,
 "nbformat_minor": 5
}
